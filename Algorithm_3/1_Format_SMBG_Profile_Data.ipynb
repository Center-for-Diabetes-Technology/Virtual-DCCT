{
 "cells": [
  {
   "cell_type": "code",
   "execution_count": null,
   "id": "9e0a4dc7-c770-45a3-b903-d78ee30b8e26",
   "metadata": {
    "papermill": {
     "duration": 0.08064,
     "end_time": "2024-01-09T23:26:27.340556",
     "exception": false,
     "start_time": "2024-01-09T23:26:27.259916",
     "status": "completed"
    },
    "tags": []
   },
   "outputs": [],
   "source": [
    "input_path = 'smbg_profile_data'\n",
    "output_path = 'smbg_profile_data_formatted'"
   ]
  },
  {
   "cell_type": "code",
   "execution_count": null,
   "id": "bca3543a-a01e-4348-bc5a-aee7c42598aa",
   "metadata": {
    "papermill": {
     "duration": 0.543053,
     "end_time": "2024-01-09T23:26:27.936585",
     "exception": false,
     "start_time": "2024-01-09T23:26:27.393532",
     "status": "completed"
    },
    "tags": []
   },
   "outputs": [],
   "source": [
    "import pandas as pd"
   ]
  },
  {
   "cell_type": "code",
   "execution_count": null,
   "id": "a91bab1d-cde5-40a7-a0e6-e807c0a8a11e",
   "metadata": {
    "papermill": {
     "duration": 1.027166,
     "end_time": "2024-01-09T23:26:28.987293",
     "exception": true,
     "start_time": "2024-01-09T23:26:27.960127",
     "status": "failed"
    },
    "tags": []
   },
   "outputs": [],
   "source": [
    "smbg = pd.read_csv(f'{input_path}/DCCTID{PID}.csv',\n",
    "                   parse_dates=['Date']) \\\n",
    "            .rename(columns={'time': 'Time',\n",
    "                             'ID': 'PID',\n",
    "                             'probability': 'Probability',\n",
    "                             'DCCT Flag': 'DCCT_Flag'})\n",
    "print(smbg.shape[0])\n",
    "smbg.head(3)"
   ]
  },
  {
   "cell_type": "markdown",
   "id": "aed4612c-8fc7-43a9-872a-b1e1a40b48ba",
   "metadata": {
    "papermill": {
     "duration": null,
     "end_time": null,
     "exception": null,
     "start_time": null,
     "status": "pending"
    },
    "tags": []
   },
   "source": [
    "### Drop rows where the SMBG value is NAN"
   ]
  },
  {
   "cell_type": "code",
   "execution_count": null,
   "id": "fd03a3da-6105-452c-a48b-7750365149dc",
   "metadata": {
    "papermill": {
     "duration": null,
     "end_time": null,
     "exception": null,
     "start_time": null,
     "status": "pending"
    },
    "tags": []
   },
   "outputs": [],
   "source": [
    "smbg = smbg.loc[smbg['SMBG'].notnull()]\n",
    "smbg.shape"
   ]
  },
  {
   "cell_type": "markdown",
   "id": "6636ad7a-9814-4f79-89c7-f770a34a9c7c",
   "metadata": {
    "papermill": {
     "duration": null,
     "end_time": null,
     "exception": null,
     "start_time": null,
     "status": "pending"
    },
    "tags": []
   },
   "source": [
    "### Drop duplicate rows"
   ]
  },
  {
   "cell_type": "code",
   "execution_count": null,
   "id": "ba55f28e-f57b-44fd-894b-2b16de3651d7",
   "metadata": {
    "papermill": {
     "duration": null,
     "end_time": null,
     "exception": null,
     "start_time": null,
     "status": "pending"
    },
    "tags": []
   },
   "outputs": [],
   "source": [
    "smbg.drop_duplicates(subset=['PID', 'Date', 'Time'], inplace=True)\n",
    "smbg.shape"
   ]
  },
  {
   "cell_type": "markdown",
   "id": "da31427d-6768-4422-9756-b032efee4f2f",
   "metadata": {
    "papermill": {
     "duration": null,
     "end_time": null,
     "exception": null,
     "start_time": null,
     "status": "pending"
    },
    "tags": []
   },
   "source": [
    "### Adjust 'Date' and 'Time' when the time is > 24 (i.e., SMBG value is from the next day)"
   ]
  },
  {
   "cell_type": "code",
   "execution_count": null,
   "id": "d313a36b-fccd-4e50-b403-86a1e21f5629",
   "metadata": {
    "papermill": {
     "duration": null,
     "end_time": null,
     "exception": null,
     "start_time": null,
     "status": "pending"
    },
    "tags": []
   },
   "outputs": [],
   "source": [
    "smbg['Date'] = smbg.apply(lambda row: row['Date'] + pd.DateOffset(days=1) if row['Time'] >= 24 else row['Date'],\n",
    "                          axis=1)\n",
    "smbg['Time'] = smbg['Time'].apply(lambda t: t % 24)"
   ]
  },
  {
   "cell_type": "markdown",
   "id": "f13f38e8-13d0-4cc8-9b14-cf914eb71de8",
   "metadata": {
    "papermill": {
     "duration": null,
     "end_time": null,
     "exception": null,
     "start_time": null,
     "status": "pending"
    },
    "tags": []
   },
   "source": [
    "### Add in Date_Time column"
   ]
  },
  {
   "cell_type": "code",
   "execution_count": null,
   "id": "0efb5e41-39c5-4c22-9aeb-3bdf4c7514ca",
   "metadata": {
    "papermill": {
     "duration": null,
     "end_time": null,
     "exception": null,
     "start_time": null,
     "status": "pending"
    },
    "tags": []
   },
   "outputs": [],
   "source": [
    "smbg['Hours'] = smbg['Time'].astype(int)\n",
    "smbg['Minutes'] = smbg['Time'].apply(lambda t: int((t % 1) * 60))\n",
    "smbg['Date_Time'] = smbg.apply(lambda row: row['Date'] + pd.DateOffset(hours=row['Hours'], minutes=row['Minutes']),\n",
    "                               axis=1)"
   ]
  },
  {
   "cell_type": "markdown",
   "id": "b9986870-f3a9-4ce5-b373-64178d149da2",
   "metadata": {
    "papermill": {
     "duration": null,
     "end_time": null,
     "exception": null,
     "start_time": null,
     "status": "pending"
    },
    "tags": []
   },
   "source": [
    "### Add in Time_Index column"
   ]
  },
  {
   "cell_type": "code",
   "execution_count": null,
   "id": "3c5b14b3-a220-4c90-b034-64566b3897f5",
   "metadata": {
    "papermill": {
     "duration": null,
     "end_time": null,
     "exception": null,
     "start_time": null,
     "status": "pending"
    },
    "tags": []
   },
   "outputs": [],
   "source": [
    "smbg['Time_Index'] = ((smbg['Date_Time'].dt.hour * 60) + smbg['Date_Time'].dt.minute) / 5\n",
    "smbg['Time_Index'] = smbg['Time_Index'].astype(int)"
   ]
  },
  {
   "cell_type": "markdown",
   "id": "4b08f58e-42e6-4160-9dab-ed8b77e733cf",
   "metadata": {
    "papermill": {
     "duration": null,
     "end_time": null,
     "exception": null,
     "start_time": null,
     "status": "pending"
    },
    "tags": []
   },
   "source": [
    "### Check that two or more SMBG values do not occur during the same 5-minute time interval.  If they do, average the SMBG values and remove all but one row of data"
   ]
  },
  {
   "cell_type": "code",
   "execution_count": null,
   "id": "81236107-3fcf-4f91-97a6-58ea887a0e79",
   "metadata": {
    "papermill": {
     "duration": null,
     "end_time": null,
     "exception": null,
     "start_time": null,
     "status": "pending"
    },
    "tags": []
   },
   "outputs": [],
   "source": [
    "num_smbg_val_per_dti = smbg.groupby(['Date', 'Time_Index']).size()\n",
    "dti_gt1 = num_smbg_val_per_dti.loc[num_smbg_val_per_dti > 1].index\n",
    "dti_gt1"
   ]
  },
  {
   "cell_type": "code",
   "execution_count": null,
   "id": "c64810c8-5d0f-4fba-95d0-ace7fb31da6b",
   "metadata": {
    "papermill": {
     "duration": null,
     "end_time": null,
     "exception": null,
     "start_time": null,
     "status": "pending"
    },
    "tags": []
   },
   "outputs": [],
   "source": [
    "print(smbg.shape)\n",
    "new_rows = []\n",
    "for date, time_index in dti_gt1:\n",
    "    mask = (smbg['Date'] == date) & (smbg['Time_Index'] == time_index)   \n",
    "    new_rows.append(smbg.loc[mask].iloc[0])\n",
    "    new_rows[-1]['SMBG'] = int(smbg.loc[mask]['SMBG'].mean())\n",
    "    \n",
    "    smbg = smbg.loc[~mask]\n",
    "    print(smbg.shape)"
   ]
  },
  {
   "cell_type": "code",
   "execution_count": null,
   "id": "c303d247-fe51-4c9d-86ff-afcde677aa92",
   "metadata": {
    "papermill": {
     "duration": null,
     "end_time": null,
     "exception": null,
     "start_time": null,
     "status": "pending"
    },
    "tags": []
   },
   "outputs": [],
   "source": [
    "smbg = pd.concat([smbg, pd.DataFrame(new_rows)], axis=0) \\\n",
    "            .sort_values('Date_Time') \\\n",
    "            .reset_index(drop=True)\n",
    "print(smbg.shape)\n",
    "smbg.head(3)"
   ]
  },
  {
   "cell_type": "markdown",
   "id": "dc0e2de4-25b1-42d5-87ed-fba90dbf00f8",
   "metadata": {
    "papermill": {
     "duration": null,
     "end_time": null,
     "exception": null,
     "start_time": null,
     "status": "pending"
    },
    "tags": []
   },
   "source": [
    "### Check that 5 mg/dL/min change in BG values assumption is not violated"
   ]
  },
  {
   "cell_type": "code",
   "execution_count": null,
   "id": "7c05a88c-5ffb-4af2-9e68-be04b76dfbb8",
   "metadata": {
    "papermill": {
     "duration": null,
     "end_time": null,
     "exception": null,
     "start_time": null,
     "status": "pending"
    },
    "tags": []
   },
   "outputs": [],
   "source": [
    "smbg = smbg.sort_values('Date_Time').reset_index(drop=True)"
   ]
  },
  {
   "cell_type": "code",
   "execution_count": null,
   "id": "b48a00b5-e1cd-41c1-b14a-75b92338b436",
   "metadata": {
    "papermill": {
     "duration": null,
     "end_time": null,
     "exception": null,
     "start_time": null,
     "status": "pending"
    },
    "tags": []
   },
   "outputs": [],
   "source": [
    "delta_gt5mgdLmin_violation = (smbg['SMBG'].diff(1) / (smbg['Date_Time'].diff(1).dt.total_seconds() / 60)).abs() > 10"
   ]
  },
  {
   "cell_type": "code",
   "execution_count": null,
   "id": "80236c48-eea1-44c4-82a4-feeb12fa2a5e",
   "metadata": {
    "papermill": {
     "duration": null,
     "end_time": null,
     "exception": null,
     "start_time": null,
     "status": "pending"
    },
    "tags": []
   },
   "outputs": [],
   "source": [
    "if PID not in [1120]:\n",
    "    assert delta_gt5mgdLmin_violation.sum() == 0, 'Violation'"
   ]
  },
  {
   "cell_type": "markdown",
   "id": "9ebaba15-b38d-451b-a1fd-f19213ac2829",
   "metadata": {
    "papermill": {
     "duration": null,
     "end_time": null,
     "exception": null,
     "start_time": null,
     "status": "pending"
    },
    "tags": []
   },
   "source": [
    "### Censor values outside CGM bounds"
   ]
  },
  {
   "cell_type": "code",
   "execution_count": null,
   "id": "a7b9ab2f-d952-4c80-9923-76e501573ccc",
   "metadata": {
    "papermill": {
     "duration": null,
     "end_time": null,
     "exception": null,
     "start_time": null,
     "status": "pending"
    },
    "tags": []
   },
   "outputs": [],
   "source": [
    "smbg['SMBG_Uncensored'] = smbg.loc[:, ['SMBG']]"
   ]
  },
  {
   "cell_type": "code",
   "execution_count": null,
   "id": "733b9bad-c0b3-4e32-8e95-f0b2f405d7d6",
   "metadata": {
    "papermill": {
     "duration": null,
     "end_time": null,
     "exception": null,
     "start_time": null,
     "status": "pending"
    },
    "tags": []
   },
   "outputs": [],
   "source": [
    "smbg.loc[smbg['SMBG'] < 40, 'SMBG'] = 39\n",
    "smbg.loc[smbg['SMBG'] > 400, 'SMBG'] = 401"
   ]
  },
  {
   "cell_type": "markdown",
   "id": "eee7d7c2-18f5-4ac8-8db9-2cbd668a8590",
   "metadata": {
    "papermill": {
     "duration": null,
     "end_time": null,
     "exception": null,
     "start_time": null,
     "status": "pending"
    },
    "tags": []
   },
   "source": [
    "### Check that there is data for each day between the start date and the end date"
   ]
  },
  {
   "cell_type": "code",
   "execution_count": null,
   "id": "cbcbf8aa-fdc1-43af-9bfc-c2dcab5ecd20",
   "metadata": {
    "papermill": {
     "duration": null,
     "end_time": null,
     "exception": null,
     "start_time": null,
     "status": "pending"
    },
    "tags": []
   },
   "outputs": [],
   "source": [
    "min_date = smbg['Date'].min()\n",
    "print(min_date.strftime('%Y-%m-%d'))\n",
    "max_date = smbg['Date'].max()\n",
    "print(max_date.strftime('%Y-%m-%d'))\n",
    "n_unique_dates = len(smbg['Date'].unique())\n",
    "print(n_unique_dates)\n",
    "\n",
    "assert n_unique_dates - ((max_date - min_date).days + 1) == 0, 'Violation'"
   ]
  },
  {
   "cell_type": "markdown",
   "id": "8b712e27-0241-4734-b26b-85482f83fbf6",
   "metadata": {
    "papermill": {
     "duration": null,
     "end_time": null,
     "exception": null,
     "start_time": null,
     "status": "pending"
    },
    "tags": []
   },
   "source": [
    "### Write out data"
   ]
  },
  {
   "cell_type": "code",
   "execution_count": null,
   "id": "5f11c300-2415-4a24-ab2a-38e5ec0de639",
   "metadata": {
    "papermill": {
     "duration": null,
     "end_time": null,
     "exception": null,
     "start_time": null,
     "status": "pending"
    },
    "tags": []
   },
   "outputs": [],
   "source": [
    "smbg[['PID', 'Date', 'Date_Time', 'Time_Index', 'SMBG', 'SMBG_Uncensored']] \\\n",
    "    .to_csv(f'{output_path}/pid{PID}_smbg_profile_data.csv', index=False)"
   ]
  },
  {
   "cell_type": "code",
   "execution_count": null,
   "id": "640241f0-c421-46ca-8605-135a0ef2e6da",
   "metadata": {
    "papermill": {
     "duration": null,
     "end_time": null,
     "exception": null,
     "start_time": null,
     "status": "pending"
    },
    "tags": []
   },
   "outputs": [],
   "source": []
  }
 ],
 "metadata": {
  "kernelspec": {
   "display_name": "dcct",
   "language": "python",
   "name": "dcct"
  },
  "language_info": {
   "codemirror_mode": {
    "name": "ipython",
    "version": 3
   },
   "file_extension": ".py",
   "mimetype": "text/x-python",
   "name": "python",
   "nbconvert_exporter": "python",
   "pygments_lexer": "ipython3",
   "version": "3.9.13"
  },
  "papermill": {
   "default_parameters": {},
   "duration": 3.076228,
   "end_time": "2024-01-09T23:26:29.418578",
   "environment_variables": {},
   "exception": true,
   "input_path": "03_Format_SMBG_Profile_Data_From_Mo.ipynb",
   "output_path": "03_Format_SMBG_Profile_Data_From_Mo.ipynb",
   "parameters": {
    "PID": 201
   },
   "start_time": "2024-01-09T23:26:26.342350",
   "version": "2.3.4"
  }
 },
 "nbformat": 4,
 "nbformat_minor": 5
}
