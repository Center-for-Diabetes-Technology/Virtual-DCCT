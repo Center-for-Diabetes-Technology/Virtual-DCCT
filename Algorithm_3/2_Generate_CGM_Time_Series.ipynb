{
 "cells": [
  {
   "cell_type": "code",
   "execution_count": null,
   "id": "dff02835-e48a-459e-b7c7-171d7dd0d646",
   "metadata": {},
   "outputs": [],
   "source": [
    "import cdt\n",
    "import dcct\n",
    "\n",
    "from importlib import reload\n",
    "from joblib import Parallel, delayed\n",
    "import numpy as np\n",
    "import numpy.random as npr\n",
    "import pandas as pd\n",
    "import sqlite3"
   ]
  },
  {
   "cell_type": "code",
   "execution_count": null,
   "id": "31f71a4c-9493-4e04-b940-40391eedb936",
   "metadata": {},
   "outputs": [],
   "source": [
    "db_path = f'{cdt.base_path}/data/study_data.db'\n",
    "smbg_data_path = 'smbg_profile_data_formatted'\n",
    "output_path = 'time_series_data'"
   ]
  },
  {
   "cell_type": "markdown",
   "id": "146b805c-881d-4464-9700-f4ac45a7d6a8",
   "metadata": {},
   "source": [
    "## Load the motifs"
   ]
  },
  {
   "cell_type": "code",
   "execution_count": null,
   "id": "2279fca1-b271-4ff2-bccc-e67870159aa2",
   "metadata": {
    "scrolled": true
   },
   "outputs": [],
   "source": [
    "omega = dcct.load_rtss_set(f'{cdt.base_path}/omega/RTSS_sets/omega_tss_24hr.json')"
   ]
  },
  {
   "cell_type": "code",
   "execution_count": null,
   "id": "9b6cb3fd-b3a9-4e66-b74d-fe1c379f7052",
   "metadata": {},
   "outputs": [],
   "source": [
    "motifs = omega['RTSSs']"
   ]
  },
  {
   "cell_type": "markdown",
   "id": "f02ce1f7-ee0d-4244-bbdc-65056141ecae",
   "metadata": {
    "tags": []
   },
   "source": [
    "## Load motif index-daily CGM profile information"
   ]
  },
  {
   "cell_type": "code",
   "execution_count": null,
   "id": "6cb7ca85-877b-4eed-9630-f8e08757a8db",
   "metadata": {},
   "outputs": [],
   "source": [
    "dp_df = pd.read_csv('../../dp_classification/pmill_runs/2022_02_09/dp_data/all_dp_data.csv')\n",
    "dp_df = dp_df[['Motif_Idx', 'SID', 'Date']].set_index('Motif_Idx')\n",
    "dp_df.head(3)"
   ]
  },
  {
   "cell_type": "code",
   "execution_count": null,
   "id": "9deb0f4c-5057-42ba-b7d1-23305d04a72b",
   "metadata": {},
   "outputs": [],
   "source": [
    "def name_change(k):\n",
    "    if 'DIAMONDT1D' in k:\n",
    "        return 'DIA1-' + k.split('-')[1]\n",
    "    if 'DIAMONDT2D' in k:\n",
    "        return 'DIA2-' + k.split('-')[1]\n",
    "    return k\n",
    "\n",
    "\n",
    "dp_df['SID'] = dp_df['SID'].apply(lambda k: name_change(k))"
   ]
  },
  {
   "cell_type": "code",
   "execution_count": null,
   "id": "912dc881-b556-44d4-8b26-601d5ab20419",
   "metadata": {},
   "outputs": [],
   "source": [
    "dp_df['Key'] = dp_df.apply(lambda row: (row['SID'], row['Date']), axis=1)"
   ]
  },
  {
   "cell_type": "code",
   "execution_count": null,
   "id": "626e0057-c25e-400d-a60c-e1a6ce6a07f7",
   "metadata": {},
   "outputs": [],
   "source": [
    "motif_dp_indices = {}\n",
    "for motif_idx in range(483):   \n",
    "    motif_dp_df = dp_df.loc[motif_idx][['Key']]\n",
    "    \n",
    "    if motif_dp_df.shape[0] < 2:\n",
    "        motif_dp_indices[motif_idx] = sorted(motif_dp_df[['Key']].values)\n",
    "    else:\n",
    "        motif_dp_indices[motif_idx] = sorted(motif_dp_df['Key'])"
   ]
  },
  {
   "cell_type": "code",
   "execution_count": null,
   "id": "6c75bad8-adf1-4698-8c4b-ee1174f1de65",
   "metadata": {},
   "outputs": [],
   "source": [
    "del dp_df"
   ]
  },
  {
   "cell_type": "markdown",
   "id": "97e429db-3954-48e8-bf19-9f7784f123fc",
   "metadata": {},
   "source": [
    "### Generate CGM data"
   ]
  },
  {
   "cell_type": "code",
   "execution_count": null,
   "id": "b4663ac1-b402-4f69-8f06-b687f08aed6f",
   "metadata": {},
   "outputs": [],
   "source": [
    "df = pd.read_csv(f'{cdt.base_path}/Study_Data/dcct/master_c.csv')\n",
    "pat_arm_map = df.set_index('MASK_PAT')['GROUP']\n",
    "print(pat_arm_map.head(3))\n",
    "\n",
    "intensive_PIDs = pat_arm_map.loc[pat_arm_map == 'Intensive'].index\n",
    "print(f'Number of intensive-therapy patients: {len(intensive_PIDs)}')\n",
    "\n",
    "conventional_PIDs = pat_arm_map.loc[pat_arm_map == 'Conventional'].index\n",
    "print(f'Number of conventional-therapy patients: {len(conventional_PIDs)}')"
   ]
  },
  {
   "cell_type": "code",
   "execution_count": null,
   "id": "5d11980b-41a9-4306-8ff9-cc5ac7cd83ea",
   "metadata": {
    "scrolled": true,
    "tags": []
   },
   "outputs": [],
   "source": [
    "cdt.create_clean_directory(output_path)\n",
    "\n",
    "seed_seq = npr.SeedSequence(62812474)\n",
    "\n",
    "PID_seeds = seed_seq.spawn(len(intensive_PIDs) + len(conventional_PIDs))\n",
    "PID_rng_streams = [npr.default_rng(s) for s in PID_seeds]\n",
    "\n",
    "parallel_stats = Parallel(n_jobs=5)(\n",
    "                    delayed(dcct.generate_CGM_data)(PID,\n",
    "                                                    PID_rng_streams[PID - 1],\n",
    "                                                    smbg_data_path,\n",
    "                                                    db_path,\n",
    "                                                    output_path)\n",
    "                    for PID in intensive_PIDs)\n",
    "\n",
    "parallel_stats = Parallel(n_jobs=5)(\n",
    "                    delayed(dcct.generate_CGM_data)(PID,\n",
    "                                                    PID_rng_streams[PID - 1],\n",
    "                                                    smbg_data_path,\n",
    "                                                    db_path,\n",
    "                                                    output_path)\n",
    "                    for PID in conventional_PIDs)"
   ]
  },
  {
   "cell_type": "code",
   "execution_count": null,
   "id": "c4aca06c-a6fa-4e19-a60c-a6ec278f7990",
   "metadata": {},
   "outputs": [],
   "source": []
  }
 ],
 "metadata": {
  "kernelspec": {
   "display_name": "dcct",
   "language": "python",
   "name": "dcct"
  },
  "language_info": {
   "codemirror_mode": {
    "name": "ipython",
    "version": 3
   },
   "file_extension": ".py",
   "mimetype": "text/x-python",
   "name": "python",
   "nbconvert_exporter": "python",
   "pygments_lexer": "ipython3",
   "version": "3.9.13"
  }
 },
 "nbformat": 4,
 "nbformat_minor": 5
}
